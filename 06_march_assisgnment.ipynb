{
 "cells": [
  {
   "cell_type": "markdown",
   "id": "f311c3ab-ed94-4293-b4f2-aefe6d42ab22",
   "metadata": {},
   "source": [
    "Q1. What is Statistics?"
   ]
  },
  {
   "cell_type": "markdown",
   "id": "172482aa-7baf-4301-9eb1-f2254b3007de",
   "metadata": {},
   "source": [
    "statistics is the science of collecting organizing and analyzing the data."
   ]
  },
  {
   "cell_type": "markdown",
   "id": "568c1395-4e65-4419-b163-ed989ecc73c6",
   "metadata": {},
   "source": [
    "Q2. Define the different types of statistics and give an example of when each type might be used."
   ]
  },
  {
   "cell_type": "markdown",
   "id": "2e4c7a4d-c9df-4fa0-a263-1271297b5931",
   "metadata": {},
   "source": [
    "There are two types of statistics.\n",
    "\n",
    "1.Descriptive statistics:- it consists of organizing and summarizing the data.\n",
    "examples:-mean,median,mode\n",
    "\n",
    "2.Infuential statistics:-it is consists of using data you have measured to form conclusion.\n",
    "examples:- Z-test,T-test"
   ]
  },
  {
   "cell_type": "markdown",
   "id": "45109b65-3f33-420c-bd30-7f6fc991f55a",
   "metadata": {},
   "source": [
    "Q3. What are the different types of data and how do they differ from each other? Provide an example of\n",
    "each type of data."
   ]
  },
  {
   "cell_type": "markdown",
   "id": "4a80e70e-5a41-4fa8-b51a-c7d5228a305d",
   "metadata": {},
   "source": [
    "there are main two types of data.\n",
    "1.Quatitative_(Numbrical data)\n",
    "examples:- whole number,temp,speed,height.\n",
    "2.Qualitative_(Categorical data)\n",
    "examples:-Gender,bloodgroup,rank.\n",
    "\n",
    "explain how it is different from each other?\n",
    "in quatitave data it is take only the continuous data which is take any number and other hand qualitative it is take the data\n",
    "categorial which is define the different amoung of the data set."
   ]
  },
  {
   "cell_type": "markdown",
   "id": "5aba2b4e-4d9b-42c8-a07f-88415a1c5755",
   "metadata": {},
   "source": [
    "Q4. Categorise the following datasets with respect to quantitative and qualitative data types:\n",
    "(i) Grading in exam: A+, A, B+, B, C+, C, D, E\n",
    "(ii) Colour of mangoes: yellow, green, orange, red\n",
    "(iii) Height data of a class: [178.9, 179, 179.5, 176, 177.2, 178.3, 175.8,...]\n",
    "(iv) Number of mangoes exported by a farm: [500, 600, 478, 672, ...]"
   ]
  },
  {
   "cell_type": "markdown",
   "id": "83c9c5eb-aa0c-42f0-bee5-ba4604388e8f",
   "metadata": {},
   "source": [
    "1.Qualitative data set.\n",
    "2.Qualitative data set.\n",
    "3.Quatitative data set.\n",
    "4.Quatitative data set."
   ]
  },
  {
   "cell_type": "markdown",
   "id": "de91b62d-1548-488b-b9de-bc9aa80bb59f",
   "metadata": {},
   "source": [
    "Q5. Explain the concept of levels of measurement and give an example of a variable for each level."
   ]
  },
  {
   "cell_type": "markdown",
   "id": "b9663f4f-f2c4-480e-873f-8fcbfdf68ea7",
   "metadata": {},
   "source": [
    "There are different units that measure the quentity.\n",
    "1.height\n",
    "2.centigrate.\n",
    "3.litre.\n",
    "4.positive.\n",
    "5.km(cm,m,ml)\n",
    "\n"
   ]
  },
  {
   "cell_type": "markdown",
   "id": "89228c43-fb85-4244-a827-1030982882af",
   "metadata": {},
   "source": [
    "Q6. Why is it important to understand the level of measurement when analyzing data? Provide an\n",
    "example to illustrate your answer."
   ]
  },
  {
   "cell_type": "markdown",
   "id": "9e600065-9b25-4cdc-ad04-91c0061e9ab9",
   "metadata": {},
   "source": [
    "It is important because every data set belong to there units so we have find their soln with their repective units.\n",
    "example:- we have to measure the water, we have to measure it in litre not in kg or km because it is not match the units and \n",
    "their quantity varius."
   ]
  },
  {
   "cell_type": "markdown",
   "id": "de99d8b4-a007-48bf-bbf6-9e5d06470966",
   "metadata": {},
   "source": [
    "Q7. How nominal data type is different from ordinal data type."
   ]
  },
  {
   "cell_type": "markdown",
   "id": "ad63d848-9955-4ae9-97fc-84ef3a84d65f",
   "metadata": {},
   "source": [
    "Nominal data type consider gender,colour and labels and their order does not matter and other hand ordinal data it is use to \n",
    "ranking and here order are matter, in this section difference cannot measured."
   ]
  },
  {
   "cell_type": "markdown",
   "id": "5b708a58-5ff8-4ef9-8c08-74031a8f2bbc",
   "metadata": {},
   "source": [
    "Q8. Which type of plot can be used to display data in terms of range?"
   ]
  },
  {
   "cell_type": "markdown",
   "id": "1b3f1370-ff0c-4fac-92e7-f44d7d3640d1",
   "metadata": {},
   "source": [
    "Histogram plot can be used to display data in terms of range."
   ]
  },
  {
   "cell_type": "markdown",
   "id": "3295e7d9-ea47-4960-b340-60c7e158ed92",
   "metadata": {},
   "source": [
    "Q9. Describe the difference between descriptive and inferential statistics. Give an example of each\n",
    "type of statistics and explain how they are used."
   ]
  },
  {
   "cell_type": "markdown",
   "id": "7dda03d3-b311-40f1-8c97-06140c17534e",
   "metadata": {},
   "source": [
    "descriptive statistics are used to organizing and summarizing the data other hand influential statistics is \n",
    "used to measured to form conclusion.\n",
    "Examples:-a given data and find their aveage value_(descriptive statistics).and other hand the height of the \n",
    "data set.(influential statistics)\n"
   ]
  },
  {
   "cell_type": "markdown",
   "id": "fe008df2-6398-4f5e-afab-567c6fc25713",
   "metadata": {},
   "source": [
    "Q10. What are some common measures of central tendency and variability used in statistics? Explain\n",
    "how each measure can be used to describe a dataset."
   ]
  },
  {
   "cell_type": "code",
   "execution_count": null,
   "id": "01d0cb62-1893-4636-b536-beec40463df7",
   "metadata": {},
   "outputs": [],
   "source": [
    "We have use mean,median and mode used to measure the central tendency.\n"
   ]
  },
  {
   "cell_type": "code",
   "execution_count": 3,
   "id": "8dc83d96-432a-4519-8cb0-6c6fd2b0348f",
   "metadata": {},
   "outputs": [],
   "source": [
    "#example:-we have dataset[3,4,6,7] find their central tendency.\n",
    "a=(3+4+6+7)/4\n"
   ]
  },
  {
   "cell_type": "code",
   "execution_count": 4,
   "id": "2c27a958-d176-4d79-9866-849ab1430a66",
   "metadata": {},
   "outputs": [
    {
     "data": {
      "text/plain": [
       "5.0"
      ]
     },
     "execution_count": 4,
     "metadata": {},
     "output_type": "execute_result"
    }
   ],
   "source": [
    "a"
   ]
  },
  {
   "cell_type": "code",
   "execution_count": null,
   "id": "4ef3002a-5aba-436d-b045-b235317dd82c",
   "metadata": {},
   "outputs": [],
   "source": []
  }
 ],
 "metadata": {
  "kernelspec": {
   "display_name": "Python 3 (ipykernel)",
   "language": "python",
   "name": "python3"
  },
  "language_info": {
   "codemirror_mode": {
    "name": "ipython",
    "version": 3
   },
   "file_extension": ".py",
   "mimetype": "text/x-python",
   "name": "python",
   "nbconvert_exporter": "python",
   "pygments_lexer": "ipython3",
   "version": "3.10.8"
  }
 },
 "nbformat": 4,
 "nbformat_minor": 5
}
